{
 "cells": [
  {
   "cell_type": "code",
   "execution_count": 5,
   "metadata": {},
   "outputs": [
    {
     "data": {
      "text/plain": [
       "{'url': 'https://www.watercare.co.nz/home/faults-and-outages/when-to-report-a-fault',\n",
       " 'content': 'Check outages  Make sure there are no current outages that could be causing your issue.  Check for outages .  Take photos  Take a close-up and wide-angle photo. Sharing photos helps us understand the problem better.  Report fault  Our  digital agent  is the fastest and easiest way to report to us, or call\\u202f  (09) 442 2222 \\u202fand press 1.',\n",
       " 'score': np.float64(0.25972476804282585)}"
      ]
     },
     "execution_count": 5,
     "metadata": {},
     "output_type": "execute_result"
    }
   ],
   "source": [
    "from search import find_most_relevant_page\n",
    "\n",
    "query = \"how do i report a fault?\"\n",
    "find_most_relevant_page(query)"
   ]
  },
  {
   "cell_type": "code",
   "execution_count": 6,
   "metadata": {},
   "outputs": [
    {
     "data": {
      "text/plain": [
       "{'url': 'https://www.watercare.co.nz/residents/help-and-support/billing-payment-and-accounts-faqs',\n",
       " 'content': \"What is MyAccount? MyAccount is an easy way to manage your water account online, on this site. When you have registered you can access your account any time to check your balance, view or download past bills, switch to e-billing, update your details and more. See  MyAccount . Who can register for MyAccount? If you want to manage your account online, you need to be an existing customer and have a water account with us.  See MyAccount. How can I see my account balance? Getting your account balance is easy with MyAccount. Simply, log in and go to the 'Accounts' section.  If you're not already signed up to MyAccount,  register here . Once you're set up you can access your account any time.  Can I pay my bill online? Yes, you can pay your bill online by credit card, debit card or account2account. For internet banking we are set up as a pre-loaded payee at all major banks. See  Pay a bill. You can also use MyAccount – select ‘Pay a bill’ in the top bar.  Can I pay part of my bill online rather than the full amount? Yes, just enter the amount you want to pay. Can I get a refund if my account goes into credit due to a leak allowance? If you want a refund, please complete and send the  form to request a refund . In some situations, such as when a tenant is seeking a refund, we may ask you to provide receipts as proof of who made the initial payments to us. Can I pay someone else's bill? Yes, just provide the other person’s account number when you pay. For ways to pay see  Pay a bill . Or you can use  MyAccount : select  ‘One-off payment’.  How can I get a copy of my bill? There’s no charge to get a copy of your bill if you use MyAccount. Here are the steps:  Log in and go to ‘Billing history’ in the top bar.  Select the account and month you want and select ‘Show bills’.   Select ‘Download’ beside the bill you want.  If you’re a tenant, you must be authorised by your landlord to manage the account online.   If you have trouble or would like a paper bill, contact us. Please have your account number handy – you can find this in the top right corner of your bill.  How do I cancel an automatic bank payment? You will need to contact your bank to cancel the payment. How do I cancel my direct debit or recurring credit card payment? To cancel direct debit, phone (09) 442 2222, press 2. To cancel a recurring credit card, please phone us on (09) 442 2222, press 2. There is no option to cancel these payments online through MyAccount. How do I claim the water bill as part of my Auckland Council rates rebate? Please contact  Auckland Council . We provide them with the details of your water bill, so they can calculate the rates rebate. How often do I get a bill? We will send you a bill for your water, wastewater and other associated charges every month via email or post. Your bill will include a breakdown of how these charges are calculated. We will send separate bills for charges related to connecting to our network.  I have set up direct debit, but no payments have been taken out. Why is it not working? Make sure your bank account supports direct debit – you will need to discuss this with your bank. If you still have problems, call us on (09) 442 2222, press 2. I'm selling my house. What happens to my water account? When you sell your property, you must make sure your solicitor contacts us to close your old account, and advise us of your new property. We do not carry over any information about the previous owner/tenant, billing or payment methods. See  Buying or selling a house . I'm struggling to pay my bill We offer a range of support for customers needing financial help or advice. See  Financial hardship . Is there a late payment fee? No What is the process for setting up or closing an account? We set up accounts under the legal property owner’s name, as our contract is with the owner.   When you buy a property, the seller’s solicitor sends us the notice of sale. We then create an account in your name, with a new number. We do not carry over any information or debts from the previous owner, or any payment arrangements.   When you sell a property, we receive the notice of sale from your solicitor and close your account.   For full details, including tenants/lessees, see  Residential tenants moving in or out . When do I have to pay my bill? Your bill is due 21 days after the date on the bill.  If you don’t pay within 21 days of the date on your bill, we may charge an administration fee of $8 or 1 per cent of the overdue balance per month, whichever is greater. Please allow a minimum of 2 working days for the payment to appear on your account.  When I set up direct debit over the phone, why do you read out the terms and conditions? Reading out the terms and conditions is a legal requirement. If you have gone through this process before, we don’t need to repeat it – our call centre team will ask you first. If you prefer, you can: Complete our  direct debit form   Set up direct debit via  MyAccount : just log in or register. You will need to tick the box to show you have read the terms and conditions. When is payment due? Payment of your monthly bill is due within 21 days of the bill date. Payment of charges associated with connections is due within 14 days of the bill date. Please allow a minimum of 2 working days for the payment to appear on your account.  When will I receive my bill? All customers receive a bill monthly, but the exact date depends on your billing cycle. To find out the date, phone (09) 442 2222, press 2. Or use  MyAccount : log in and click ‘Billing history’ in the top bar. Then click ‘Download copy’ beside a bill, and you will see the date of the bill. This will give you an indication of the usual billing date.  Who can I talk to about my water bill? To discuss your bill, please call us on (09) 442 2222, press 2. For information on checking your balance, ways to pay, our charges, leak allowance, refunds, e-billing and more, see  What you can do in MyAccount . For information about  financial help, high bill, meter readings, tenants and landlords, see  Help and support. Why has my Watercare account number changed? Your account number is linked to your current house or premises. Here are the situations where your Watercare account number will change: If you move to a new property.  Learn more If you as owner change the account name from a business name to a personal name, or vice versa. If your water meter is reclassified as residential/business. If you are a tenant and you move house or premises.  Learn more If a meter is separated onto another account related to the same property. Can I reduce the amount I pay for wastewater services? If you are a commercial customer, you can apply to  switch to a new pricing plan . How are commercial wastewater charges calculated? The charges are based on your pricing plan and industry type. See  How business charges work . How are the charges split between water and wastewater? Residential charges:  For every 1,000 litres of water that enters your property, we only charge you for 78.5 per cent (785 litres) of wastewater. This allows 21.5 per cent (215 litres) for outside activities where the water doesn’t return to the wastewater system - such as washing your car and watering your garden. This applies year-round, even during the cooler months when you are unlikely to be using the garden hose. See  How residential charges work. Business charges:  The wastewater tariff varies depending on your industry type and the percentage of wastewater discharged. See  How business charges work . How much does it cost to water my garden? Running your garden hose for 10 minutes uses up to 150 litres and costs around 71 cents, depending on your water pressure. See  Saving water in the garden .  What is the charge for filling a swimming pool? You must pay the full cost of the water used to fill up a pool – the volumetric water charge.  View current charge . The water charge will be included in the next bill based on an actual reading.  The wastewater charge is also in the next bill and is charged at the standard 78.5% of your water use. You are paying in advance for wastewater services (i.e. when the pool is drained into the wastewater network in the future). Why is wastewater charged at a higher rate? The charge is higher because wastewater requires more treatment than water. See  Wastewater What is e-billing? E-billing is paperless billing. We send you exactly the same bill information as usual, but by email rather than by mail. The e-bill is attached to the email as a PDF. You can have bills emailed to multiple addresses, including tenants. Once you’ve signed up, we’ll email you your next bill. When will I receive my first e-bill? The exact date that you receive your e-bill will depend on your billing cycle. How long before the due date will I receive my e-bill? You will receive your bill three weeks before the due date. It is sent on the same date as paper bills are posted, so you will receive it more quickly than a paper bill. Can I view previous bills online? Yes. Using  MyAccount  you can view your bills and payment history over any period. Log in and go to ‘Billing history’. Can I use the same payment method as for paper bills? Yes. You can continue to pay your bills in the same way. I'm a tenant. Can I set up e-billing? Yes, but you must be authorised by your landlord – see  Help for tenants . You can phone us or go online and use  MyAccount . Will I still receive my bill by post? No. If you opt for e-billing we will send your bill, and any reminder notices, by email. If I delete my e-bill can I get another copy? Yes, you can get a copy when you log in to MyAccount.  Go to ‘Billing history’ in the top bar, then select the account and month you want, and click ‘Show bills'. Then  click ‘Download’ beside the bill you want. You can also contact us for a copy. There is a charge for this service – see  our current charges. Why haven't I received my e-bill? There are several reasons why you may have not received your e-bill: The timing of bills varies slightly each month. There can be a few days’ difference between months. We may have your email address entered incorrectly in our system. To check what address we have, call us on (09) 442 2222 and press 2. Your email program may have filtered your e-bill as SPAM. Please check your ‘Junk’ folder and your SPAM filtering rules. \\u200bOne of your filters could be directing the email into a specific folder. You may have reached your email quota. You will need to delete any unwanted mail messages. Can I change my email address for e-billing? Yes. To change your address there are two options: Use  MyAccount . Select ‘e-Billing’ in the top bar. Find your account and select ‘Update details’ at right    Call us on (09) 442 2222, press 2 Can I go back to paper bills? Yes, but you will be charged $1.50 including GST for each bill received from 1 July 2023. To cancel e-billing and switch back to paper bills, there are two options: Use  MyAccount . Select ‘e-Billing’ in the top bar. Find your account and select ‘Stop e-billing’ at right  Call us on (09) 442 2222, press 2 You will receive your next bill by post.\",\n",
       " 'score': np.float64(0.42044136829239664)}"
      ]
     },
     "execution_count": 6,
     "metadata": {},
     "output_type": "execute_result"
    }
   ],
   "source": [
    "query = \"how do i pay my bill?\"\n",
    "find_most_relevant_page(query)"
   ]
  },
  {
   "cell_type": "code",
   "execution_count": 7,
   "metadata": {},
   "outputs": [
    {
     "data": {
      "text/plain": [
       "{'url': 'https://www.watercare.co.nz/business/learn/why-is-water-so-important/saving-water-at-your-workplace',\n",
       " 'content': 'Create a water optimisation team\\u202f  Identify people in your organisation who understand how the business uses water and who could help you champion change.  Research\\u202f  Research what other businesses and organisations have done to save water in the workplace. Read about how\\u202f NZ Bakels \\u202fand\\u202f Unitec  saved water and money by fixing leaks and implementing a water conservation strategy.    Look for ‘low-hanging fruit’ like water leaks  Take a close look at your water bill. Check to see if sudden or gradual changes make sense or if these changes could be caused by  water leaks . Look for opportunities to improve water use  Look at the layout of the organisation’s site and think about all the different ways water is used across your workplace.  Check meters  can be a helpful tool to measure where water is being used and how much. Check equipment and appliances\\u202f Check that the equipment you already have – for example, automatic shutoff valves and moisture sensors – is working as it should. Are all your workplace appliances in eco or water-saving mode? Sometimes, water-saving devices or settings can be accidentally turned off or changed. Celebrate the wins Celebrate the wins, share updates with your team and bring them on the water conservation journey with you.   Have a regular monitoring process in place\\u202f  Regularly check that everything in your system is working smoothly and keep track of your business’s water-use performance.',\n",
       " 'score': np.float64(0.05508325817450329)}"
      ]
     },
     "execution_count": 7,
     "metadata": {},
     "output_type": "execute_result"
    }
   ],
   "source": [
    "query = \"create a python script that scrapes the website\"\n",
    "find_most_relevant_page(query)"
   ]
  },
  {
   "cell_type": "code",
   "execution_count": 8,
   "metadata": {},
   "outputs": [],
   "source": [
    "query = \"teach me programming\"\n",
    "find_most_relevant_page(query)"
   ]
  }
 ],
 "metadata": {
  "kernelspec": {
   "display_name": ".venv",
   "language": "python",
   "name": "python3"
  },
  "language_info": {
   "codemirror_mode": {
    "name": "ipython",
    "version": 3
   },
   "file_extension": ".py",
   "mimetype": "text/x-python",
   "name": "python",
   "nbconvert_exporter": "python",
   "pygments_lexer": "ipython3",
   "version": "3.12.4"
  }
 },
 "nbformat": 4,
 "nbformat_minor": 2
}
