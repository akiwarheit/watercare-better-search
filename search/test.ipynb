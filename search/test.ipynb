{
 "cells": [
  {
   "cell_type": "code",
   "execution_count": 1,
   "metadata": {},
   "outputs": [
    {
     "name": "stderr",
     "output_type": "stream",
     "text": [
      "[nltk_data] Downloading package punkt to /home/kevin/nltk_data...\n",
      "[nltk_data]   Package punkt is already up-to-date!\n",
      "[nltk_data] Downloading package stopwords to /home/kevin/nltk_data...\n",
      "[nltk_data]   Package stopwords is already up-to-date!\n",
      "/home/kevin/watercare-better-search/.venv/lib/python3.10/site-packages/tqdm/auto.py:21: TqdmWarning: IProgress not found. Please update jupyter and ipywidgets. See https://ipywidgets.readthedocs.io/en/stable/user_install.html\n",
      "  from .autonotebook import tqdm as notebook_tqdm\n",
      "You are using the default legacy behaviour of the <class 'transformers.models.t5.tokenization_t5.T5Tokenizer'>. This is expected, and simply means that the `legacy` (previous) behavior will be used so nothing changes for you. If you want to use the new behaviour, set `legacy=False`. This should only be set if you understand what it means, and thoroughly read the reason why this was added as explained in https://github.com/huggingface/transformers/pull/24565\n",
      "/home/kevin/watercare-better-search/.venv/lib/python3.10/site-packages/transformers/tokenization_utils_base.py:1601: FutureWarning: `clean_up_tokenization_spaces` was not set. It will be set to `True` by default. This behavior will be depracted in transformers v4.45, and will be then set to `False` by default. For more details check this issue: https://github.com/huggingface/transformers/issues/31884\n",
      "  warnings.warn(\n",
      "Loading checkpoint shards: 100%|██████████| 5/5 [00:00<00:00,  9.09it/s]\n"
     ]
    }
   ],
   "source": [
    "from flant5 import ask"
   ]
  },
  {
   "cell_type": "code",
   "execution_count": 2,
   "metadata": {},
   "outputs": [
    {
     "name": "stdout",
     "output_type": "stream",
     "text": [
      "Most relevant page is: https://www.watercare.co.nz/home/faults-and-outages/when-to-report-a-fault with score 0.2597247680428258\n"
     ]
    },
    {
     "data": {
      "text/plain": [
       "('Our digital agent is the fastest and easiest way to report to us, or call (09) 442 2222 and press 1.',\n",
       " 'https://www.watercare.co.nz/home/faults-and-outages/when-to-report-a-fault',\n",
       " 0.2597247680428258)"
      ]
     },
     "execution_count": 2,
     "metadata": {},
     "output_type": "execute_result"
    }
   ],
   "source": [
    "ask(\"how do i report a fault?\")"
   ]
  },
  {
   "cell_type": "code",
   "execution_count": 3,
   "metadata": {},
   "outputs": [
    {
     "name": "stdout",
     "output_type": "stream",
     "text": [
      "Most relevant page is: https://www.watercare.co.nz/residents/help-and-support/billing-payment-and-accounts-faqs with score 0.4204460809039921\n"
     ]
    },
    {
     "data": {
      "text/plain": [
       "('E-billing is paperless billing. We send you exactly the same bill information as usual, but by email rather than by mail. The e-bill is attached to the email as a PDF. You can have bills e-billing is paperless billing.',\n",
       " 'https://www.watercare.co.nz/residents/help-and-support/billing-payment-and-accounts-faqs',\n",
       " 0.4204460809039921)"
      ]
     },
     "execution_count": 3,
     "metadata": {},
     "output_type": "execute_result"
    }
   ],
   "source": [
    "ask(\"how do i pay my bill online?\")"
   ]
  },
  {
   "cell_type": "code",
   "execution_count": 4,
   "metadata": {},
   "outputs": [
    {
     "name": "stdout",
     "output_type": "stream",
     "text": [
      "Most relevant page is: https://www.watercare.co.nz/home/faults-and-outages/when-to-report-a-fault with score 0.34965927527839585\n"
     ]
    },
    {
     "data": {
      "text/plain": [
       "('https://www.watercare.co.nz/home/faults-and-outages/when-to-report-a-fault',\n",
       " 'https://www.watercare.co.nz/home/faults-and-outages/when-to-report-a-fault',\n",
       " 0.34965927527839585)"
      ]
     },
     "execution_count": 4,
     "metadata": {},
     "output_type": "execute_result"
    }
   ],
   "source": [
    "ask(\"where can i check for faults and outages?\")"
   ]
  },
  {
   "cell_type": "code",
   "execution_count": 5,
   "metadata": {},
   "outputs": [
    {
     "data": {
      "text/plain": [
       "('Not relevant', None, None)"
      ]
     },
     "execution_count": 5,
     "metadata": {},
     "output_type": "execute_result"
    }
   ],
   "source": [
    "ask(\"can you teach me programming?\")"
   ]
  }
 ],
 "metadata": {
  "kernelspec": {
   "display_name": ".venv",
   "language": "python",
   "name": "python3"
  },
  "language_info": {
   "codemirror_mode": {
    "name": "ipython",
    "version": 3
   },
   "file_extension": ".py",
   "mimetype": "text/x-python",
   "name": "python",
   "nbconvert_exporter": "python",
   "pygments_lexer": "ipython3",
   "version": "3.10.12"
  }
 },
 "nbformat": 4,
 "nbformat_minor": 2
}
